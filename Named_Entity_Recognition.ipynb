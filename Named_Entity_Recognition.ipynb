{
 "cells": [
  {
   "cell_type": "code",
   "execution_count": null,
   "id": "phantom-priest",
   "metadata": {},
   "outputs": [],
   "source": [
    "# pip install flair"
   ]
  },
  {
   "cell_type": "code",
   "execution_count": 7,
   "id": "greater-beaver",
   "metadata": {},
   "outputs": [
    {
     "name": "stdout",
     "output_type": "stream",
     "text": [
      "2021-03-01 10:44:46,265 loading file /Users/vitaliystepanov/.flair/models/en-ner-conll03-v0.4.pt\n"
     ]
    }
   ],
   "source": [
    "from flair.data import Sentence\n",
    "from flair.models import SequenceTagger\n",
    "\n",
    "# make a sentence\n",
    "# looks for a noun in a sentence? use another tool to search websites and input here?\n",
    "sentence = Sentence('Vitaliy is in the SureStart program learning Named Enity Recognition NLP.')\n",
    "\n",
    "# load the NER tagger\n",
    "tagger = SequenceTagger.load('ner') # Named Entity Recognition (ner)\n",
    "\n",
    "# run NER over sentence\n",
    "tagger.predict(sentence)"
   ]
  },
  {
   "cell_type": "code",
   "execution_count": 8,
   "id": "blank-skirt",
   "metadata": {},
   "outputs": [
    {
     "name": "stdout",
     "output_type": "stream",
     "text": [
      "Sentence: \"Vitaliy is in the SureStart program learning Named Enity Recognition NLP .\"   [− Tokens: 12  − Token-Labels: \"Vitaliy <S-PER> is in the SureStart <S-MISC> program learning Named <B-MISC> Enity <I-MISC> Recognition <I-MISC> NLP <E-MISC> .\"]\n",
      "The following NER tags are found:\n",
      "Span [1]: \"Vitaliy\"   [− Labels: PER (0.9971)]\n",
      "Span [5]: \"SureStart\"   [− Labels: MISC (0.4108)]\n",
      "Span [8,9,10,11]: \"Named Enity Recognition NLP\"   [− Labels: MISC (0.7002)]\n"
     ]
    }
   ],
   "source": [
    "print(sentence)\n",
    "print('The following NER tags are found:')\n",
    "\n",
    "# iterate over entities and print\n",
    "for entity in sentence.get_spans('ner'):\n",
    "    print(entity)"
   ]
  },
  {
   "cell_type": "code",
   "execution_count": null,
   "id": "turkish-atmosphere",
   "metadata": {},
   "outputs": [],
   "source": []
  }
 ],
 "metadata": {
  "kernelspec": {
   "display_name": "Python 3",
   "language": "python",
   "name": "python3"
  },
  "language_info": {
   "codemirror_mode": {
    "name": "ipython",
    "version": 3
   },
   "file_extension": ".py",
   "mimetype": "text/x-python",
   "name": "python",
   "nbconvert_exporter": "python",
   "pygments_lexer": "ipython3",
   "version": "3.8.2"
  }
 },
 "nbformat": 4,
 "nbformat_minor": 5
}
